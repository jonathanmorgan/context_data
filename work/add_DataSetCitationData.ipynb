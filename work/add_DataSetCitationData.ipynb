{
 "cells": [
  {
   "cell_type": "code",
   "execution_count": 1,
   "metadata": {
    "ExecuteTime": {
     "end_time": "2018-08-20T16:50:10.093368Z",
     "start_time": "2018-08-20T16:50:10.087712Z"
    }
   },
   "outputs": [
    {
     "name": "stdout",
     "output_type": "stream",
     "text": [
      "packages imported at 2018-08-20 16:50:10.090089\n"
     ]
    }
   ],
   "source": [
    "import datetime\n",
    "import six\n",
    "\n",
    "print( \"packages imported at \" + str( datetime.datetime.now() ) )"
   ]
  },
  {
   "cell_type": "code",
   "execution_count": 2,
   "metadata": {
    "ExecuteTime": {
     "end_time": "2018-08-20T16:50:11.787926Z",
     "start_time": "2018-08-20T16:50:11.156776Z"
    }
   },
   "outputs": [
    {
     "name": "stderr",
     "output_type": "stream",
     "text": [
      "/home/jonathanmorgan/.virtualenvs/research/lib/python3.6/site-packages/psycopg2/__init__.py:144: UserWarning: The psycopg2 wheel package will be renamed from release 2.8; in order to keep installing from binary please use \"pip install psycopg2-binary\" instead. For details see: <http://initd.org/psycopg/docs/install.html#binary-install-from-pypi>.\n",
      "  \"\"\")\n"
     ]
    },
    {
     "name": "stdout",
     "output_type": "stream",
     "text": [
      "django initialized at 2018-08-20 16:50:11.785585\n"
     ]
    },
    {
     "name": "stderr",
     "output_type": "stream",
     "text": [
      "/home/jonathanmorgan/.virtualenvs/research/lib/python3.6/importlib/_bootstrap.py:219: RuntimeWarning: numpy.dtype size changed, may indicate binary incompatibility. Expected 96, got 88\n",
      "  return f(*args, **kwds)\n"
     ]
    }
   ],
   "source": [
    "%run django_init.py"
   ]
  },
  {
   "cell_type": "code",
   "execution_count": 3,
   "metadata": {
    "ExecuteTime": {
     "end_time": "2018-08-20T16:50:13.477714Z",
     "start_time": "2018-08-20T16:50:13.427465Z"
    }
   },
   "outputs": [],
   "source": [
    "# django model imports\n",
    "from sourcenet.models import Article_Data\n",
    "from sourcenet_datasets.models import DataSetCitationData\n",
    "from sourcenet_datasets.models import DataSetMention\n",
    "\n",
    "# other sourcenet_datasets classes\n",
    "from sourcenet_datasets.coding.data_set_mentions.manual.manual_data_set_mentions_coder import ManualDataSetMentionsCoder"
   ]
  },
  {
   "cell_type": "code",
   "execution_count": 4,
   "metadata": {
    "ExecuteTime": {
     "end_time": "2018-08-20T16:50:19.119707Z",
     "start_time": "2018-08-20T16:50:16.476453Z"
    }
   },
   "outputs": [
    {
     "name": "stdout",
     "output_type": "stream",
     "text": [
      "Updated mention 1 to refer to DataSetCitationData 1.\n",
      "Updated mention 3 to refer to DataSetCitationData 1.\n"
     ]
    }
   ],
   "source": [
    "# declare variables\n",
    "article_data_qs = None\n",
    "article_data = None\n",
    "mention_qs = None\n",
    "mention_count = None\n",
    "coder_user = None\n",
    "mention = None\n",
    "mention_citation = None\n",
    "citation_get_result = None\n",
    "citation_data = None\n",
    "citation_get_status = None\n",
    "citation_get_message = None\n",
    "\n",
    "# get all Article_Data.\n",
    "article_data_qs = Article_Data.objects.all()\n",
    "\n",
    "# loop\n",
    "for article_data in article_data_qs:\n",
    "    \n",
    "    # see if any mentions.\n",
    "    mention_qs = article_data.datasetmention_set.all()\n",
    "    mention_count = mention_qs.count()\n",
    "    if ( mention_count > 0 ):\n",
    "        \n",
    "        # retrieve user\n",
    "        coder_user = article_data.coder\n",
    "        \n",
    "        # we have mentions.  For each:\n",
    "        # - get citation\n",
    "        # - pass Article_Data instance and DataSetCitation instance to\n",
    "        #     ManualDataSetMentionsCoder.get_data_set_citation_data()\n",
    "        #     to get or create DataSetCitationData.\n",
    "        # - add that citation_data instance to mention.\n",
    "        # - save mention.\n",
    "        for mention in mention_qs:\n",
    "            \n",
    "            # get citation\n",
    "            mention_citation = mention.data_set_citation\n",
    "            \n",
    "            # retrieve citation_data\n",
    "            citation_get_result = ManualDataSetMentionsCoder.get_data_set_citation_data( article_data, mention_citation )\n",
    "\n",
    "            # get citation data, status, status message.\n",
    "            citation_data = citation_get_result.get( ManualDataSetMentionsCoder.PROP_CITATION_DATA, None )\n",
    "            citation_get_status = citation_get_result.get( ManualDataSetMentionsCoder.PROP_LOOKUP_STATUS, ManualDataSetMentionsCoder.PROP_LOOKUP_STATUS_VALUE_ERROR )\n",
    "            citation_get_message = citation_get_result.get( ManualDataSetMentionsCoder.PROP_STATUS_MESSAGE, None )\n",
    "\n",
    "            # error?\n",
    "            if ( citation_get_status not in ManualDataSetMentionsCoder.PROP_LOOKUP_ERROR_STATUS_LIST ):\n",
    "\n",
    "                # no - add citation to mention and save.\n",
    "                mention.data_set_citation_data = citation_data\n",
    "                mention.save()\n",
    "\n",
    "                # error.  No citation data.\n",
    "                status_message = \"Updated mention {} to refer to DataSetCitationData {}.\".format( mention.id, citation_data.id )\n",
    "                print( status_message )\n",
    "\n",
    "            else:\n",
    "\n",
    "                # error.  No citation data.\n",
    "                status_message = \"ERROR - status: {}; status message: {}.\".format( citation_get_status, citation_get_message )\n",
    "                print( status_message )\n",
    "\n",
    "            # END check to see if citation present. --#\n",
    "            \n",
    "        #-- END loop over mentions --#\n",
    "        \n",
    "    #-- END check to see if mentions --#\n",
    "        \n",
    "#-- END loop over Article_Data --#"
   ]
  }
 ],
 "metadata": {
  "kernelspec": {
   "display_name": "research_virtualenv",
   "language": "python",
   "name": "research"
  },
  "language_info": {
   "codemirror_mode": {
    "name": "ipython",
    "version": 3
   },
   "file_extension": ".py",
   "mimetype": "text/x-python",
   "name": "python",
   "nbconvert_exporter": "python",
   "pygments_lexer": "ipython3",
   "version": "3.6.5"
  },
  "toc": {
   "base_numbering": 1,
   "nav_menu": {},
   "number_sections": true,
   "sideBar": true,
   "skip_h1_title": false,
   "title_cell": "Table of Contents",
   "title_sidebar": "Contents",
   "toc_cell": false,
   "toc_position": {},
   "toc_section_display": true,
   "toc_window_display": false
  }
 },
 "nbformat": 4,
 "nbformat_minor": 2
}
